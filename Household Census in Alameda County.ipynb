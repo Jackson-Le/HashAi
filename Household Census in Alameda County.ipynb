{
 "cells": [
  {
   "cell_type": "code",
   "execution_count": 1,
   "metadata": {},
   "outputs": [],
   "source": [
    "import pandas as pd\n",
    "# This is imported to gather the census data\n",
    "import censusdata\n",
    "import numpy as np"
   ]
  },
  {
   "cell_type": "code",
   "execution_count": 2,
   "metadata": {},
   "outputs": [
    {
     "data": {
      "text/plain": [
       "censusgeo((('state', '06'),))"
      ]
     },
     "execution_count": 2,
     "metadata": {},
     "output_type": "execute_result"
    }
   ],
   "source": [
    "# This gets the states data ordered by states, specifically looking at the data gathered every 5 years (acs5) for the year\n",
    "# of 2015\n",
    "states = censusdata.geographies(censusdata.censusgeo([('state', '*')]), 'acs5', 2015)\n",
    "# look at specifically california\n",
    "states['California']"
   ]
  },
  {
   "cell_type": "code",
   "execution_count": 3,
   "metadata": {},
   "outputs": [
    {
     "data": {
      "text/plain": [
       "censusgeo((('state', '06'), ('county', '001')))"
      ]
     },
     "execution_count": 3,
     "metadata": {},
     "output_type": "execute_result"
    }
   ],
   "source": [
    "# Now only grab from state 6 -- california\n",
    "counties = censusdata.geographies(censusdata.censusgeo([('state', '06'), ('county', '*')]), 'acs5', 2015)\n",
    "# Look for alameda county in california\n",
    "counties['Alameda County, California']"
   ]
  },
  {
   "cell_type": "code",
   "execution_count": 4,
   "metadata": {},
   "outputs": [
    {
     "data": {
      "text/plain": [
       "[('B25010_001E',\n",
       "  'B25010.  Average Household Size of Occupied Housing Units by Tenure',\n",
       "  'Average household size --!!Total:'),\n",
       " ('B25010_001M',\n",
       "  'B25010.  Average Household Size of Occupied Housing Units by Tenure',\n",
       "  'Margin Of Error For!!Average household size --!!Total:'),\n",
       " ('B25010_002E',\n",
       "  'B25010.  Average Household Size of Occupied Housing Units by Tenure',\n",
       "  'Average household size --!!Owner occupied'),\n",
       " ('B25010_002M',\n",
       "  'B25010.  Average Household Size of Occupied Housing Units by Tenure',\n",
       "  'Margin Of Error For!!Average household size --!!Owner occupied'),\n",
       " ('B25010_003E',\n",
       "  'B25010.  Average Household Size of Occupied Housing Units by Tenure',\n",
       "  'Average household size --!!Renter occupied'),\n",
       " ('B25010_003M',\n",
       "  'B25010.  Average Household Size of Occupied Housing Units by Tenure',\n",
       "  'Margin Of Error For!!Average household size --!!Renter occupied')]"
      ]
     },
     "execution_count": 4,
     "metadata": {},
     "output_type": "execute_result"
    }
   ],
   "source": [
    "# Here we are looking for labels related to household size -- we will use these later\n",
    "censusdata.search('acs5', 2015, 'label', 'household size')"
   ]
  },
  {
   "cell_type": "code",
   "execution_count": 5,
   "metadata": {},
   "outputs": [],
   "source": [
    "# Downlod the things that pertain to our search result -- in this case the labels that we found above along with \n",
    "# the county and state we are looking at\n",
    "berkeley_data = censusdata.download('acs5', 2015,\n",
    "                            censusdata.censusgeo([('state', '06'),\n",
    "                            ('county', '001'),\n",
    "                            ('block group', '*')]),\n",
    "          ['B25010_001E', 'B25010_001M', 'B25010_002E', \n",
    "           'B25010_002M', 'B25010_003E', 'B25010_003M'])"
   ]
  },
  {
   "cell_type": "code",
   "execution_count": 6,
   "metadata": {},
   "outputs": [
    {
     "data": {
      "text/html": [
       "<div>\n",
       "<style scoped>\n",
       "    .dataframe tbody tr th:only-of-type {\n",
       "        vertical-align: middle;\n",
       "    }\n",
       "\n",
       "    .dataframe tbody tr th {\n",
       "        vertical-align: top;\n",
       "    }\n",
       "\n",
       "    .dataframe thead th {\n",
       "        text-align: right;\n",
       "    }\n",
       "</style>\n",
       "<table border=\"1\" class=\"dataframe\">\n",
       "  <thead>\n",
       "    <tr style=\"text-align: right;\">\n",
       "      <th></th>\n",
       "      <th>B25010_001E</th>\n",
       "      <th>B25010_001M</th>\n",
       "      <th>B25010_002E</th>\n",
       "      <th>B25010_002M</th>\n",
       "      <th>B25010_003E</th>\n",
       "      <th>B25010_003M</th>\n",
       "    </tr>\n",
       "  </thead>\n",
       "  <tbody>\n",
       "    <tr>\n",
       "      <th>Block Group 4, Census Tract 4097, Alameda County, California: Summary level: 150, state:06&gt; county:001&gt; tract:409700&gt; block group:4</th>\n",
       "      <td>3.53</td>\n",
       "      <td>0.95</td>\n",
       "      <td>4.15</td>\n",
       "      <td>1.17</td>\n",
       "      <td>3.06</td>\n",
       "      <td>1.31</td>\n",
       "    </tr>\n",
       "    <tr>\n",
       "      <th>Block Group 1, Census Tract 4098, Alameda County, California: Summary level: 150, state:06&gt; county:001&gt; tract:409800&gt; block group:1</th>\n",
       "      <td>2.49</td>\n",
       "      <td>0.60</td>\n",
       "      <td>2.28</td>\n",
       "      <td>0.48</td>\n",
       "      <td>3.00</td>\n",
       "      <td>1.62</td>\n",
       "    </tr>\n",
       "    <tr>\n",
       "      <th>Block Group 2, Census Tract 4098, Alameda County, California: Summary level: 150, state:06&gt; county:001&gt; tract:409800&gt; block group:2</th>\n",
       "      <td>2.80</td>\n",
       "      <td>0.50</td>\n",
       "      <td>3.24</td>\n",
       "      <td>1.02</td>\n",
       "      <td>2.58</td>\n",
       "      <td>0.59</td>\n",
       "    </tr>\n",
       "    <tr>\n",
       "      <th>Block Group 3, Census Tract 4098, Alameda County, California: Summary level: 150, state:06&gt; county:001&gt; tract:409800&gt; block group:3</th>\n",
       "      <td>2.61</td>\n",
       "      <td>0.75</td>\n",
       "      <td>2.87</td>\n",
       "      <td>0.90</td>\n",
       "      <td>1.75</td>\n",
       "      <td>0.50</td>\n",
       "    </tr>\n",
       "    <tr>\n",
       "      <th>Block Group 1, Census Tract 4099, Alameda County, California: Summary level: 150, state:06&gt; county:001&gt; tract:409900&gt; block group:1</th>\n",
       "      <td>2.56</td>\n",
       "      <td>0.57</td>\n",
       "      <td>2.52</td>\n",
       "      <td>0.64</td>\n",
       "      <td>3.05</td>\n",
       "      <td>0.87</td>\n",
       "    </tr>\n",
       "  </tbody>\n",
       "</table>\n",
       "</div>"
      ],
      "text/plain": [
       "                                                    B25010_001E  B25010_001M  \\\n",
       "Block Group 4, Census Tract 4097, Alameda Count...         3.53         0.95   \n",
       "Block Group 1, Census Tract 4098, Alameda Count...         2.49         0.60   \n",
       "Block Group 2, Census Tract 4098, Alameda Count...         2.80         0.50   \n",
       "Block Group 3, Census Tract 4098, Alameda Count...         2.61         0.75   \n",
       "Block Group 1, Census Tract 4099, Alameda Count...         2.56         0.57   \n",
       "\n",
       "                                                    B25010_002E  B25010_002M  \\\n",
       "Block Group 4, Census Tract 4097, Alameda Count...         4.15         1.17   \n",
       "Block Group 1, Census Tract 4098, Alameda Count...         2.28         0.48   \n",
       "Block Group 2, Census Tract 4098, Alameda Count...         3.24         1.02   \n",
       "Block Group 3, Census Tract 4098, Alameda Count...         2.87         0.90   \n",
       "Block Group 1, Census Tract 4099, Alameda Count...         2.52         0.64   \n",
       "\n",
       "                                                    B25010_003E  B25010_003M  \n",
       "Block Group 4, Census Tract 4097, Alameda Count...         3.06         1.31  \n",
       "Block Group 1, Census Tract 4098, Alameda Count...         3.00         1.62  \n",
       "Block Group 2, Census Tract 4098, Alameda Count...         2.58         0.59  \n",
       "Block Group 3, Census Tract 4098, Alameda Count...         1.75         0.50  \n",
       "Block Group 1, Census Tract 4099, Alameda Count...         3.05         0.87  "
      ]
     },
     "execution_count": 6,
     "metadata": {},
     "output_type": "execute_result"
    }
   ],
   "source": [
    "berkeley_data.head()"
   ]
  },
  {
   "cell_type": "markdown",
   "metadata": {},
   "source": [
    "Let us make the assumption that each tract will have the same amount of people in it (approximately true by google maps research), and that it would be fair to average each column to gather the average amount of people inside to be represetntative of what we should expect of alameda county."
   ]
  },
  {
   "cell_type": "code",
   "execution_count": 7,
   "metadata": {},
   "outputs": [],
   "source": [
    "# Gather all values that are non-negative or non-zero\n",
    "berkeley_tracts = berkeley_data[berkeley_data.select_dtypes(include=[np.number]).ge(0).all(1)]"
   ]
  },
  {
   "cell_type": "code",
   "execution_count": 8,
   "metadata": {},
   "outputs": [
    {
     "data": {
      "text/plain": [
       "B25010_001E    2.841236\n",
       "B25010_001M    0.429860\n",
       "B25010_002E    2.920798\n",
       "B25010_002M    0.637298\n",
       "B25010_003E    2.917288\n",
       "B25010_003M    0.734726\n",
       "dtype: float64"
      ]
     },
     "execution_count": 8,
     "metadata": {},
     "output_type": "execute_result"
    }
   ],
   "source": [
    "berkeley_tracts.agg('mean')"
   ]
  },
  {
   "cell_type": "markdown",
   "metadata": {},
   "source": [
    "For our case, I will just be using the total averages (001E, 002E, 003E) for our estimates. I will be using a poisson distribution to estimate the distribution of the household sizes."
   ]
  },
  {
   "cell_type": "code",
   "execution_count": 9,
   "metadata": {},
   "outputs": [],
   "source": [
    "# These labels are arbitarily assigned by the census data people -- you can find the description of this data below:\n",
    "# https://www2.census.gov/programs-surveys/acs/tech_docs/code_lists/2015_ACS_Code_Lists.pdf\n",
    "cols = ['B25010_001E', 'B25010_002E', 'B25010_003E']\n",
    "sum_tracts = 0\n",
    "for i in cols:\n",
    "    sum_tracts += berkeley_tracts.agg('mean')[i]\n",
    "average = sum_tracts/3"
   ]
  },
  {
   "cell_type": "code",
   "execution_count": 10,
   "metadata": {},
   "outputs": [
    {
     "data": {
      "text/plain": [
       "<Figure size 640x480 with 1 Axes>"
      ]
     },
     "metadata": {},
     "output_type": "display_data"
    }
   ],
   "source": [
    "# What our estimate looks like\n",
    "import matplotlib.pyplot as plt\n",
    "# number of estimates found in the pdf averageabove for the population in berkeley\n",
    "dist = s = np.random.poisson(average, 44978)\n",
    "count, bins, ignored= plt.hist(dist,bins = [0,1,2,3,4,5,6,7,8,9,10,11,12] , density = True)\n",
    "plt.show()"
   ]
  },
  {
   "cell_type": "code",
   "execution_count": 11,
   "metadata": {},
   "outputs": [
    {
     "data": {
      "text/plain": [
       "(array([ 20.,  83., 168., 234., 201., 173.,  71.,  36.,  14.,   3.]),\n",
       " array([1.23 , 1.622, 2.014, 2.406, 2.798, 3.19 , 3.582, 3.974, 4.366,\n",
       "        4.758, 5.15 ]),\n",
       " <BarContainer object of 10 artists>)"
      ]
     },
     "execution_count": 11,
     "metadata": {},
     "output_type": "execute_result"
    },
    {
     "data": {
      "image/png": "[encoded data removed]",
      "text/plain": [
       "<Figure size 432x288 with 1 Axes>"
      ]
     },
     "metadata": {
      "needs_background": "light"
     },
     "output_type": "display_data"
    }
   ],
   "source": [
    "# Looking at the specific distributions of each block search\n",
    "plt.hist(berkeley_tracts['B25010_001E'])"
   ]
  },
  {
   "cell_type": "code",
   "execution_count": 12,
   "metadata": {},
   "outputs": [
    {
     "data": {
      "text/plain": [
       "(array([114., 617., 232.,  32.,   6.,   0.,   0.,   1.,   0.,   1.]),\n",
       " array([ 1.07 ,  2.154,  3.238,  4.322,  5.406,  6.49 ,  7.574,  8.658,\n",
       "         9.742, 10.826, 11.91 ]),\n",
       " <BarContainer object of 10 artists>)"
      ]
     },
     "execution_count": 12,
     "metadata": {},
     "output_type": "execute_result"
    },
    {
     "data": {
      "image/png": "[encoded data removed]",
      "text/plain": [
       "<Figure size 432x288 with 1 Axes>"
      ]
     },
     "metadata": {
      "needs_background": "light"
     },
     "output_type": "display_data"
    }
   ],
   "source": [
    "plt.hist(berkeley_tracts['B25010_002E'])"
   ]
  },
  {
   "cell_type": "code",
   "execution_count": 13,
   "metadata": {},
   "outputs": [
    {
     "data": {
      "text/plain": [
       "(array([232., 406., 247.,  92.,  20.,   4.,   0.,   1.,   0.,   1.]),\n",
       " array([ 1.11 ,  2.119,  3.128,  4.137,  5.146,  6.155,  7.164,  8.173,\n",
       "         9.182, 10.191, 11.2  ]),\n",
       " <BarContainer object of 10 artists>)"
      ]
     },
     "execution_count": 13,
     "metadata": {},
     "output_type": "execute_result"
    },
    {
     "data": {
      "image/png": "[encoded data removed]",
      "text/plain": [
       "<Figure size 432x288 with 1 Axes>"
      ]
     },
     "metadata": {
      "needs_background": "light"
     },
     "output_type": "display_data"
    }
   ],
   "source": [
    "plt.hist(berkeley_tracts['B25010_003E'])"
   ]
  },
  {
   "cell_type": "code",
   "execution_count": 14,
   "metadata": {},
   "outputs": [],
   "source": [
    "dist_tracts = np.concatenate([berkeley_tracts['B25010_001E'].to_numpy(),\n",
    "                             berkeley_tracts['B25010_002E'].to_numpy(),\n",
    "                             berkeley_tracts['B25010_003E'].to_numpy()])"
   ]
  },
  {
   "cell_type": "code",
   "execution_count": 15,
   "metadata": {},
   "outputs": [
    {
     "data": {
      "text/plain": [
       "(array([ 515., 1620.,  736.,  112.,   19.,    3.,    0.,    2.,    0.,\n",
       "           2.]),\n",
       " array([ 1.07 ,  2.154,  3.238,  4.322,  5.406,  6.49 ,  7.574,  8.658,\n",
       "         9.742, 10.826, 11.91 ]),\n",
       " <BarContainer object of 10 artists>)"
      ]
     },
     "execution_count": 15,
     "metadata": {},
     "output_type": "execute_result"
    },
    {
     "data": {
      "image/png": "[encoded data removed]",
      "text/plain": [
       "<Figure size 432x288 with 1 Axes>"
      ]
     },
     "metadata": {
      "needs_background": "light"
     },
     "output_type": "display_data"
    }
   ],
   "source": [
    "plt.hist(dist_tracts)"
   ]
  },
  {
   "cell_type": "markdown",
   "metadata": {},
   "source": [
    "This distribution of household sizes in the tracts in Alameda County closely resembles that of a poission distribution. To make our simulation replicate this distribution of households, we will be pulling from a poission distribution to represent the household sizes in our randomly generated homes. The average variable represents the lambda we are using in our simulation for our poission distribution of demands in our Hash.Ai project."
   ]
  }
 ],
 "metadata": {
  "kernelspec": {
   "display_name": "Python 3",
   "language": "python",
   "name": "python3"
  },
  "language_info": {
   "codemirror_mode": {
    "name": "ipython",
    "version": 3
   },
   "file_extension": ".py",
   "mimetype": "text/x-python",
   "name": "python",
   "nbconvert_exporter": "python",
   "pygments_lexer": "ipython3",
   "version": "3.7.3"
  }
 },
 "nbformat": 4,
 "nbformat_minor": 2
}
